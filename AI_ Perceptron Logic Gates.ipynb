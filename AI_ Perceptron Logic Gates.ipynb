{
 "cells": [
  {
   "cell_type": "markdown",
   "id": "97ce7e42",
   "metadata": {},
   "source": [
    "# AI: Perceptron Logic Gates"
   ]
  },
  {
   "cell_type": "markdown",
   "id": "530bf806",
   "metadata": {},
   "source": [
    "# Creating and visualizing the Data"
   ]
  },
  {
   "cell_type": "code",
   "execution_count": 14,
   "id": "c1e74948",
   "metadata": {},
   "outputs": [],
   "source": [
    "from sklearn.linear_model import Perceptron\n",
    "import matplotlib.pyplot as plt\n",
    "import numpy as np\n",
    "from itertools import product"
   ]
  },
  {
   "cell_type": "code",
   "execution_count": 9,
   "id": "29fe4eee",
   "metadata": {},
   "outputs": [
    {
     "data": {
      "image/png": "[encoded data removed]",
      "text/plain": [
       "<Figure size 432x288 with 1 Axes>"
      ]
     },
     "metadata": {
      "needs_background": "light"
     },
     "output_type": "display_data"
    }
   ],
   "source": [
    "data = [[0, 0], [0, 1], [1, 0], [1, 1]]\n",
    "labels = [ 0,     1,      1,       0  ]\n",
    "plt.scatter([point[0] for point in data],\n",
    "            [point[1] for point in data],\n",
    "            c = labels)\n",
    "plt.show()"
   ]
  },
  {
   "cell_type": "markdown",
   "id": "61198351",
   "metadata": {},
   "source": [
    "# Building the Perceptron"
   ]
  },
  {
   "cell_type": "code",
   "execution_count": 11,
   "id": "4bac0ab5",
   "metadata": {},
   "outputs": [
    {
     "name": "stdout",
     "output_type": "stream",
     "text": [
      "0.5\n"
     ]
    }
   ],
   "source": [
    "classifier = Perceptron(max_iter=40)\n",
    "classifier.fit(data, labels)\n",
    "print(classifier.score(data, labels))"
   ]
  },
  {
   "cell_type": "markdown",
   "id": "fb0f2dc5",
   "metadata": {},
   "source": [
    "# Visualizing the Perceptron"
   ]
  },
  {
   "cell_type": "code",
   "execution_count": 12,
   "id": "d02fc10e",
   "metadata": {},
   "outputs": [
    {
     "name": "stdout",
     "output_type": "stream",
     "text": [
      "0.5\n",
      "[0. 0. 0.]\n"
     ]
    }
   ],
   "source": [
    "x_values = np.linspace(0, 1, 100)\n",
    "y_values = np.linspace(0, 1, 100)\n",
    "point_grid = list(product(x_values, y_values))\n",
    "distances = classifier.decision_function(point_grid)\n",
    "abs_distances = [abs(pt) for pt in distances]\n",
    "distances_matrix = np.reshape(abs_distances, (100, 100))\n",
    "print(classifier.score(data, labels))\n",
    "print(classifier.decision_function([[0, 0], [1, 1], [0.5, 0.5]]))"
   ]
  },
  {
   "cell_type": "code",
   "execution_count": 13,
   "id": "cddacb6c",
   "metadata": {},
   "outputs": [
    {
     "data": {
      "image/png": "[encoded data removed]",
      "text/plain": [
       "<Figure size 432x288 with 2 Axes>"
      ]
     },
     "metadata": {
      "needs_background": "light"
     },
     "output_type": "display_data"
    }
   ],
   "source": [
    "heatmap = plt.pcolormesh(x_values, y_values, distances_matrix, shading='auto')\n",
    "plt.colorbar(heatmap)\n",
    "plt.show()"
   ]
  }
 ],
 "metadata": {
  "kernelspec": {
   "display_name": "Python 3 (ipykernel)",
   "language": "python",
   "name": "python3"
  },
  "language_info": {
   "codemirror_mode": {
    "name": "ipython",
    "version": 3
   },
   "file_extension": ".py",
   "mimetype": "text/x-python",
   "name": "python",
   "nbconvert_exporter": "python",
   "pygments_lexer": "ipython3",
   "version": "3.9.7"
  }
 },
 "nbformat": 4,
 "nbformat_minor": 5
}
